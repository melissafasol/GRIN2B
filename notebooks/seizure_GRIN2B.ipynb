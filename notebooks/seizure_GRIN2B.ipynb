{
 "cells": [
  {
   "cell_type": "code",
   "execution_count": 7,
   "id": "3b0f61ff",
   "metadata": {},
   "outputs": [],
   "source": [
    "import os \n",
    "import pandas as pd\n",
    "import numpy as np\n",
    "\n",
    "import seaborn as sns\n",
    "import matplotlib.pyplot as plt\n",
    "\n",
    "os.chdir('/home/melissa/PROJECT_DIRECTORIES/GRIN2B/scripts')\n",
    "%run plotting.py"
   ]
  },
  {
   "cell_type": "markdown",
   "id": "c9c0f98d",
   "metadata": {},
   "source": [
    "# Palette Color Variations"
   ]
  },
  {
   "cell_type": "code",
   "execution_count": null,
   "id": "8fa341de",
   "metadata": {},
   "outputs": [],
   "source": [
    "wt_id_colors = ['orange', 'orangered','lightsalmon','darkred','sienna', 'gold','yellowgreen','darkseagreen','lightgreen','darkolivegreen',\n",
    "         'teal', 'skyblue', 'darkblue','black', 'slategrey', 'silver', 'darkviolet', 'plum']\n",
    "sns.palplot(wt_id_colors)\n",
    "royal = ['darkseagreen', 'lightpink', 'coral', 'darkkhaki']\n",
    "darjeeling = ['orange', 'lightgreen', 'skyblue', 'plum']\n",
    "bright = ['lightblue', 'teal', 'orangered', 'darkred']\n",
    "channels = ['lightblue', 'teal', 'orangered', 'darkred', 'darkseagreen', \n",
    "                 'lightpink', 'coral', 'darkkhaki', 'orange', 'slategrey', 'violet', 'yellowgreen', 'black']\n",
    "sns.palplot(royal)\n",
    "sns.palplot(channels[0:13])\n",
    "sns.palplot(bright)\n",
    "diverging_colors = sns.color_palette(\"RdBu\", 13)\n",
    "sns.palplot(diverging_colors)\n",
    "\n",
    "colors_dict= {0 : 'teal', 2 :'orangered', 3 : 'orangered', 4: 'orangered', 5: 'darkred',\n",
    "              6 : 'darkred', 7 : 'teal', 8: 'darkred', 9:'darkred', 10: 'teal',\n",
    "              11: 'orangered', 12: 'orangered', 13: 'orangered', 15 : 'teal'}"
   ]
  },
  {
   "cell_type": "markdown",
   "id": "e892153b",
   "metadata": {},
   "source": [
    "# IDs for sleepstages excluding seizure epochs"
   ]
  },
  {
   "cell_type": "code",
   "execution_count": 2,
   "id": "b6582604",
   "metadata": {},
   "outputs": [
    {
     "data": {
      "text/plain": [
       "18"
      ]
     },
     "execution_count": 2,
     "metadata": {},
     "output_type": "execute_result"
    }
   ],
   "source": [
    "GRIN_wt_IDs = ['378','382', '383', '401','402','404', '430','140','132',\n",
    "               '238','240','362','363','365','366','369','371','375']\n",
    "len(GRIN_wt_IDs)"
   ]
  },
  {
   "cell_type": "code",
   "execution_count": 3,
   "id": "c4327f06",
   "metadata": {},
   "outputs": [
    {
     "data": {
      "text/plain": [
       "19"
      ]
     },
     "execution_count": 3,
     "metadata": {},
     "output_type": "execute_result"
    }
   ],
   "source": [
    "GRIN_het_IDs = ['131', '130', '129', '228', '227', '229', '373', '138', '137',\n",
    "                '139','236', '237', '239', '241', '364', '367', '368', '424',\n",
    "                '433']\n",
    "len(GRIN_het_IDs)"
   ]
  },
  {
   "cell_type": "code",
   "execution_count": 4,
   "id": "d2b15486",
   "metadata": {},
   "outputs": [
    {
     "data": {
      "text/plain": [
       "37"
      ]
     },
     "execution_count": 4,
     "metadata": {},
     "output_type": "execute_result"
    }
   ],
   "source": [
    "br_animal_IDs = ['378', '382', '383', '401', '402', '404','424', '430','433',\n",
    "                '140', '129', '130', '131', '132', '137','138', '139', '227',\n",
    "                '228', '229', '236', '237', '238', '239', '240', '241', '362',\n",
    "                '363', '364', '365', '366', '367', '368', '369', '371', '373', '375'] \n",
    "len(br_animal_IDs)"
   ]
  },
  {
   "cell_type": "code",
   "execution_count": 5,
   "id": "f963897d",
   "metadata": {},
   "outputs": [],
   "source": [
    "wt_list_to_plot = []\n",
    "\n",
    "for id in range(0, len(GRIN_wt_IDs)-1, 2):\n",
    "    wt_list_to_plot.append([int(GRIN_wt_IDs[id]), int(GRIN_wt_IDs[id + 1])])"
   ]
  },
  {
   "cell_type": "code",
   "execution_count": 6,
   "id": "80ab71e3",
   "metadata": {},
   "outputs": [],
   "source": [
    "het_list_to_plot = []\n",
    "\n",
    "for id in range(0, len(GRIN_het_IDs)-1, 2):\n",
    "    het_list_to_plot.append([int(GRIN_het_IDs[id]), int(GRIN_het_IDs[id + 1])])\n",
    "het_list_to_plot.append(['433', '433'])"
   ]
  },
  {
   "cell_type": "code",
   "execution_count": 428,
   "id": "f659f856",
   "metadata": {},
   "outputs": [],
   "source": [
    "os.chdir('/home/melissa/RESULTS/GRIN2B/WAKE/wake_cleaning')\n",
    "clean_wake = pd.read_csv('3750_testing_cleaning_4_11.csv')"
   ]
  },
  {
   "cell_type": "code",
   "execution_count": 1,
   "id": "c14ab28a",
   "metadata": {},
   "outputs": [],
   "source": [
    "save_path = '/home/melissa/RESULTS/GRIN2B/WAKE/wake_cleaning/animal_plots'\n",
    "#plot_by_channel(clean_wake, genotype = 'GRIN2B Het', sleepstage = 'Wake', save_path = save_path, plots_list = het_list_to_plot, plotting_palette = colors_dict )"
   ]
  },
  {
   "cell_type": "markdown",
   "id": "c86829b5",
   "metadata": {},
   "source": [
    "# seizure IDs"
   ]
  },
  {
   "cell_type": "code",
   "execution_count": 121,
   "id": "6161d9b1",
   "metadata": {},
   "outputs": [],
   "source": [
    "os.chdir('/home/melissa/RESULTS/GRIN2B/wake_plots_excluding_seizures')\n",
    "seizures = pd.read_csv('seizure_GRIN2B_power.csv')\n",
    "seizures_WT = seizures[seizures['Genotype'] == 'WT']\n",
    "seizures_het = seizures[seizures['Genotype'] == 'GRIN2B']"
   ]
  },
  {
   "cell_type": "code",
   "execution_count": 216,
   "id": "839da826",
   "metadata": {},
   "outputs": [],
   "source": [
    "save_path = '/home/melissa/RESULTS/GRIN2B/seizures/excluded_animals'"
   ]
  }
 ],
 "metadata": {
  "kernelspec": {
   "display_name": "Python 3",
   "language": "python",
   "name": "python3"
  },
  "language_info": {
   "codemirror_mode": {
    "name": "ipython",
    "version": 3
   },
   "file_extension": ".py",
   "mimetype": "text/x-python",
   "name": "python",
   "nbconvert_exporter": "python",
   "pygments_lexer": "ipython3",
   "version": "3.8.5"
  },
  "vscode": {
   "interpreter": {
    "hash": "f41a1448023d8366d46bdc1967babc49ad1fb1468381993cc01a260a0f4f6641"
   }
  }
 },
 "nbformat": 4,
 "nbformat_minor": 5
}
